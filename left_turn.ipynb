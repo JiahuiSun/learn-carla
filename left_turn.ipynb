{
 "cells": [
  {
   "cell_type": "code",
   "execution_count": 9,
   "id": "6e6b6dec-c0f6-4496-9b75-d74bcba07183",
   "metadata": {},
   "outputs": [],
   "source": [
    "import carla \n",
    "import math \n",
    "import random \n",
    "import time \n",
    "import numpy as np\n",
    "import cv2\n",
    "import open3d as o3d\n",
    "from matplotlib import cm\n",
    "import os\n",
    "\n",
    "from util.sensor_cb import camera_callback, lidar_callback, add_open3d_axis"
   ]
  },
  {
   "cell_type": "code",
   "execution_count": 10,
   "id": "bb73b6ca",
   "metadata": {},
   "outputs": [],
   "source": [
    "# Connect the client and set up bp library and spawn point\n",
    "client = carla.Client('localhost', 2000)\n",
    "world = client.get_world()\n",
    "bp_lib = world.get_blueprint_library() \n",
    "spawn_points = world.get_map().get_spawn_points() "
   ]
  },
  {
   "cell_type": "code",
   "execution_count": 25,
   "id": "543867b7",
   "metadata": {},
   "outputs": [],
   "source": [
    "init_trans = carla.Transform(carla.Location(z=45, x=-80, y=2), carla.Rotation(pitch=-90, yaw=-90, roll=0))\n",
    "spectator = world.get_spectator() \n",
    "spectator.set_transform(init_trans)"
   ]
  },
  {
   "cell_type": "code",
   "execution_count": 22,
   "id": "e5ce920b",
   "metadata": {},
   "outputs": [],
   "source": [
    "# 摆放3辆车\n",
    "vehicle_bp = bp_lib.find('vehicle.mercedes-benz.coupe') \n",
    "vehicle_init_trans = carla.Transform(carla.Location(z=1, x=-78, y=10), carla.Rotation(pitch=0, yaw=-110, roll=0))\n",
    "vehicle1 = world.spawn_actor(vehicle_bp, vehicle_init_trans)\n",
    "# 2\n",
    "vehicle_bp = bp_lib.find('vehicle.carlamotors.carlacola') \n",
    "vehicle_init_trans = carla.Transform(carla.Location(z=1, x=-84, y=-3), carla.Rotation(pitch=0, yaw=60, roll=0))\n",
    "vehicle2 = world.spawn_actor(vehicle_bp, vehicle_init_trans)\n",
    "# 3 \n",
    "vehicle_bp = bp_lib.find('vehicle.audi.a2') \n",
    "vehicle_init_trans = carla.Transform(carla.Location(z=1, x=-88, y=-10), carla.Rotation(pitch=0, yaw=90, roll=0))\n",
    "vehicle3 = world.spawn_actor(vehicle_bp, vehicle_init_trans)"
   ]
  },
  {
   "cell_type": "code",
   "execution_count": 5,
   "id": "55c5d81b",
   "metadata": {},
   "outputs": [],
   "source": [
    "# Set up LIDAR and RADAR, parameters are to assisst visualisation\n",
    "lidar_bp = bp_lib.find('sensor.lidar.ray_cast') \n",
    "lidar_bp.set_attribute('range', '50')\n",
    "lidar_bp.set_attribute('noise_stddev', '0.1')\n",
    "lidar_bp.set_attribute('upper_fov', '4')\n",
    "lidar_bp.set_attribute('lower_fov', '-20')\n",
    "lidar_bp.set_attribute('channels', '64')\n",
    "lidar_bp.set_attribute('rotation_frequency', '20')\n",
    "lidar_bp.set_attribute('points_per_second', '2304000')\n",
    "\n",
    "camera_bp = bp_lib.find('sensor.camera.rgb') "
   ]
  },
  {
   "cell_type": "code",
   "execution_count": 6,
   "id": "5bcf90f8",
   "metadata": {},
   "outputs": [],
   "source": [
    "# Set up vehicle sensors\n",
    "vehicle_init_trans = carla.Transform(carla.Location(0, 0, 2), carla.Rotation(0, 0, 0))\n",
    "lidar1 = world.spawn_actor(lidar_bp, vehicle_init_trans, attach_to=vehicle1)\n",
    "camera1 = world.spawn_actor(camera_bp, vehicle_init_trans, attach_to=vehicle1)\n",
    "\n",
    "lidar3 = world.spawn_actor(lidar_bp, vehicle_init_trans, attach_to=vehicle3)\n",
    "\n",
    "camera_top = world.spawn_actor(camera_bp, init_trans)\n",
    "\n",
    "point_list_vehicle1 = o3d.geometry.PointCloud()\n",
    "point_list_vehicle3 = o3d.geometry.PointCloud()\n",
    "image_w = camera_bp.get_attribute(\"image_size_x\").as_int()\n",
    "image_h = camera_bp.get_attribute(\"image_size_y\").as_int()\n",
    "camera_data_vehicle = {'image': np.zeros((image_h, image_w, 4))} "
   ]
  },
  {
   "cell_type": "code",
   "execution_count": 7,
   "id": "3c6a65fd",
   "metadata": {},
   "outputs": [],
   "source": [
    "# Start drone sensors\n",
    "lidar1.listen(lambda data: lidar_callback(data, point_list_vehicle1, f'output/left_turn/lidar1'))\n",
    "camera1.listen(lambda image: camera_callback(image, camera_data_vehicle, f'output/left_turn/camera1'))\n",
    "lidar3.listen(lambda data: lidar_callback(data, point_list_vehicle3, f'output/left_turn/lidar3'))"
   ]
  },
  {
   "cell_type": "code",
   "execution_count": 8,
   "id": "83c48865",
   "metadata": {},
   "outputs": [],
   "source": [
    "lidar1.stop()\n",
    "camera1.stop()\n",
    "lidar3.stop()"
   ]
  },
  {
   "cell_type": "code",
   "execution_count": null,
   "id": "fe746826",
   "metadata": {},
   "outputs": [],
   "source": [
    "# 现在的问题就是，我一直觉得点云图怪怪的，坐标系不对吗？\n",
    "# 应该怎么保存数据？应该怎么查看数据？"
   ]
  },
  {
   "cell_type": "code",
   "execution_count": null,
   "id": "0e3e1f3b-dee6-4c20-83c2-20584766d1e8",
   "metadata": {},
   "outputs": [],
   "source": [
    "# OpenCV window for camera\n",
    "cv2.namedWindow(f'RGB Camera (z={z}, x={x}, pitch={pitch}, roll={roll})', cv2.WINDOW_AUTOSIZE)\n",
    "cv2.imshow(f'RGB Camera (z={z}, x={x}, pitch={pitch}, roll={roll})', camera_data_drone['image'])\n",
    "cv2.waitKey(1)\n",
    "\n",
    "# Open3D visualiser for LIDAR and RADAR\n",
    "vis = o3d.visualization.Visualizer()\n",
    "vis.create_window(\n",
    "    window_name=f'Lidar (z={z}, x={x}, pitch={pitch}, roll={roll})',\n",
    "    width=960,\n",
    "    height=540,\n",
    "    left=480,\n",
    "    top=270)\n",
    "vis.get_render_option().background_color = [0.05, 0.05, 0.05]\n",
    "vis.get_render_option().point_size = 1\n",
    "vis.get_render_option().show_coordinate_frame = True\n",
    "add_open3d_axis(vis)\n",
    "\n",
    "# Update geometry and camera in game loop\n",
    "frame = 0\n",
    "while True:\n",
    "    if frame == 2:\n",
    "        vis.add_geometry(point_list_drone)\n",
    "    vis.update_geometry(point_list_drone)\n",
    "    \n",
    "    vis.poll_events()\n",
    "    vis.update_renderer()\n",
    "    # # This can fix Open3D jittering issues:\n",
    "    time.sleep(0.005)\n",
    "    frame += 1\n",
    "\n",
    "    cv2.imshow(f'RGB Camera (z={z}, x={x}, pitch={pitch}, roll={roll})', camera_data_drone['image'])\n",
    "    \n",
    "    # Break if user presses 'q'\n",
    "    if cv2.waitKey(1) == ord('q'):\n",
    "        break\n",
    "\n",
    "# Close displayws and stop sensors\n",
    "cv2.destroyAllWindows()\n",
    "lidar_drone.stop()\n",
    "lidar_drone.destroy()\n",
    "camera_drone.stop()\n",
    "camera_drone.destroy()\n",
    "vis.destroy_window()\n",
    "\n",
    "# for actor in world.get_actors().filter('*vehicle*'):\n",
    "#     actor.destroy()\n",
    "# for actor in world.get_actors().filter('*sensor*'):\n",
    "#     actor.destroy()"
   ]
  },
  {
   "cell_type": "code",
   "execution_count": 21,
   "id": "8dd90eae",
   "metadata": {},
   "outputs": [],
   "source": [
    "for actor in world.get_actors().filter('*vehicle*'):\n",
    "    actor.destroy()\n",
    "for actor in world.get_actors().filter('*sensor*'):\n",
    "    actor.destroy()"
   ]
  },
  {
   "cell_type": "code",
   "execution_count": null,
   "id": "b8dafb02",
   "metadata": {},
   "outputs": [],
   "source": []
  }
 ],
 "metadata": {
  "kernelspec": {
   "display_name": "base",
   "language": "python",
   "name": "python3"
  },
  "language_info": {
   "codemirror_mode": {
    "name": "ipython",
    "version": 3
   },
   "file_extension": ".py",
   "mimetype": "text/x-python",
   "name": "python",
   "nbconvert_exporter": "python",
   "pygments_lexer": "ipython3",
   "version": "3.9.12"
  },
  "vscode": {
   "interpreter": {
    "hash": "d0f5dcaff160d9f79e74ff4dfa711647af4b3d56ea15a3d2814ac7df503eeb18"
   }
  }
 },
 "nbformat": 4,
 "nbformat_minor": 5
}
