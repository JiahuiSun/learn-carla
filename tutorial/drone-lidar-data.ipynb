{
 "cells": [
  {
   "cell_type": "code",
   "execution_count": 1,
   "id": "6e6b6dec-c0f6-4496-9b75-d74bcba07183",
   "metadata": {},
   "outputs": [
    {
     "name": "stdout",
     "output_type": "stream",
     "text": [
      "Jupyter environment detected. Enabling Open3D WebVisualizer.\n",
      "[Open3D INFO] WebRTC GUI backend enabled.\n",
      "[Open3D INFO] WebRTCWindowSystem: HTTP handshake server disabled.\n"
     ]
    }
   ],
   "source": [
    "import carla \n",
    "import math \n",
    "import random \n",
    "import time \n",
    "import numpy as np\n",
    "import cv2\n",
    "import open3d as o3d\n",
    "from matplotlib import cm\n",
    "import os"
   ]
  },
  {
   "cell_type": "code",
   "execution_count": 2,
   "id": "bb73b6ca",
   "metadata": {},
   "outputs": [],
   "source": [
    "# Connect the client and set up bp library and spawn point\n",
    "client = carla.Client('localhost', 2000)\n",
    "world = client.get_world()\n",
    "bp_lib = world.get_blueprint_library() \n",
    "spawn_points = world.get_map().get_spawn_points() "
   ]
  },
  {
   "cell_type": "code",
   "execution_count": 3,
   "id": "543867b7",
   "metadata": {},
   "outputs": [],
   "source": [
    "init_trans = carla.Transform(carla.Location(z=90, x=0, y=0), carla.Rotation(pitch=-90, yaw=0, roll=0))\n",
    "spectator = world.get_spectator() \n",
    "spectator.set_transform(init_trans)"
   ]
  },
  {
   "cell_type": "code",
   "execution_count": 4,
   "id": "8544d3a8-d8be-44c0-89f7-3cff803b796a",
   "metadata": {},
   "outputs": [],
   "source": [
    "# Add traffic and set in motion with Traffic Manager\n",
    "for i in range(150): \n",
    "    vehicle_bp = random.choice(bp_lib.filter('vehicle')) \n",
    "    npc = world.try_spawn_actor(vehicle_bp, random.choice(spawn_points))    \n",
    "# for v in world.get_actors().filter('*vehicle*'): \n",
    "#     v.set_autopilot(True) "
   ]
  },
  {
   "cell_type": "code",
   "execution_count": 5,
   "id": "585e60b4-fd21-498b-adba-55f8a65f7f7f",
   "metadata": {},
   "outputs": [],
   "source": [
    "# Auxilliary code for colormaps and axes\n",
    "VIRIDIS = np.array(cm.get_cmap('plasma').colors)\n",
    "VID_RANGE = np.linspace(0.0, 1.0, VIRIDIS.shape[0])\n",
    "\n",
    "COOL_RANGE = np.linspace(0.0, 1.0, VIRIDIS.shape[0])\n",
    "COOL = np.array(cm.get_cmap('winter')(COOL_RANGE))\n",
    "COOL = COOL[:,:3]\n",
    "\n",
    "def add_open3d_axis(vis):\n",
    "    \"\"\"Add a small 3D axis on Open3D Visualizer\"\"\"\n",
    "    axis = o3d.geometry.LineSet()\n",
    "    axis.points = o3d.utility.Vector3dVector(np.array([\n",
    "        [0.0, 0.0, 0.0],\n",
    "        [1.0, 0.0, 0.0],\n",
    "        [0.0, 1.0, 0.0],\n",
    "        [0.0, 0.0, 1.0]]))\n",
    "    axis.lines = o3d.utility.Vector2iVector(np.array([\n",
    "        [0, 1],\n",
    "        [0, 2],\n",
    "        [0, 3]]))\n",
    "    axis.colors = o3d.utility.Vector3dVector(np.array([\n",
    "        [1.0, 0.0, 0.0],\n",
    "        [0.0, 1.0, 0.0],\n",
    "        [0.0, 0.0, 1.0]]))\n",
    "    vis.add_geometry(axis)"
   ]
  },
  {
   "cell_type": "code",
   "execution_count": 6,
   "id": "87378074-2d23-4c35-96d9-653504deea64",
   "metadata": {},
   "outputs": [],
   "source": [
    "# LIDAR and RADAR callbacks\n",
    "def lidar_callback(point_cloud, point_list, save_dir):\n",
    "    \"\"\"Prepares a point cloud with intensity\n",
    "    colors ready to be consumed by Open3D\"\"\"\n",
    "    data = np.copy(np.frombuffer(point_cloud.raw_data, dtype=np.dtype('f4')))\n",
    "    data = np.reshape(data, (int(data.shape[0] / 4), 4))\n",
    "\n",
    "    # Isolate the intensity and compute a color for it\n",
    "    intensity = data[:, -1]\n",
    "    intensity_col = 1.0 - np.log(intensity) / np.log(np.exp(-0.004 * 100))\n",
    "    int_color = np.c_[\n",
    "        np.interp(intensity_col, VID_RANGE, VIRIDIS[:, 0]),\n",
    "        np.interp(intensity_col, VID_RANGE, VIRIDIS[:, 1]),\n",
    "        np.interp(intensity_col, VID_RANGE, VIRIDIS[:, 2])]\n",
    "\n",
    "    points = data[:, :-1]\n",
    "\n",
    "    points[:, :1] = -points[:, :1]\n",
    "\n",
    "    point_list.points = o3d.utility.Vector3dVector(points)\n",
    "    point_list.colors = o3d.utility.Vector3dVector(int_color)\n",
    "    point_cloud.save_to_disk(os.path.join(save_dir, f'{point_cloud.frame}.ply'))\n",
    "\n",
    "def radar_callback(data, point_list):\n",
    "    radar_data = np.zeros((len(data), 4))\n",
    "    \n",
    "    for i, detection in enumerate(data):\n",
    "        x = detection.depth * math.cos(detection.altitude) * math.cos(detection.azimuth)\n",
    "        y = detection.depth * math.cos(detection.altitude) * math.sin(detection.azimuth)\n",
    "        z = detection.depth * math.sin(detection.altitude)\n",
    "        \n",
    "        radar_data[i, :] = [x, y, z, detection.velocity]\n",
    "        \n",
    "    intensity = np.abs(radar_data[:, -1])\n",
    "    intensity_col = 1.0 - np.log(intensity) / np.log(np.exp(-0.004 * 100))\n",
    "    int_color = np.c_[\n",
    "        np.interp(intensity_col, COOL_RANGE, COOL[:, 0]),\n",
    "        np.interp(intensity_col, COOL_RANGE, COOL[:, 1]),\n",
    "        np.interp(intensity_col, COOL_RANGE, COOL[:, 2])]\n",
    "    \n",
    "    points = radar_data[:, :-1]\n",
    "    points[:, :1] = -points[:, :1]\n",
    "    point_list.points = o3d.utility.Vector3dVector(points)\n",
    "    point_list.colors = o3d.utility.Vector3dVector(int_color)\n",
    "    \n",
    "# Camera callback\n",
    "def camera_callback(image, data_dict, save_dir):\n",
    "    data_dict['image'] = np.reshape(np.copy(image.raw_data), (image.height, image.width, 4)) \n",
    "    image.save_to_disk(os.path.join(save_dir, f'{image.frame}.png'))\n"
   ]
  },
  {
   "cell_type": "code",
   "execution_count": null,
   "id": "55c5d81b",
   "metadata": {},
   "outputs": [],
   "source": [
    "# Set up LIDAR and RADAR, parameters are to assisst visualisation\n",
    "lidar_bp = bp_lib.find('sensor.lidar.ray_cast') \n",
    "lidar_bp.set_attribute('range', '100.0')\n",
    "lidar_bp.set_attribute('noise_stddev', '0.1')\n",
    "lidar_bp.set_attribute('upper_fov', '45.0')\n",
    "lidar_bp.set_attribute('lower_fov', '-45.0')\n",
    "lidar_bp.set_attribute('channels', '128.0')\n",
    "lidar_bp.set_attribute('rotation_frequency', '20.0')\n",
    "lidar_bp.set_attribute('points_per_second', '1000000')\n",
    "\n",
    "camera_bp = bp_lib.find('sensor.camera.rgb') "
   ]
  },
  {
   "cell_type": "code",
   "execution_count": 107,
   "id": "9f9439f4",
   "metadata": {},
   "outputs": [],
   "source": [
    "# height, pos, pitch, roll\n",
    "x = -80\n",
    "z = 30\n",
    "pitch = 0\n",
    "roll = 90"
   ]
  },
  {
   "cell_type": "code",
   "execution_count": 57,
   "id": "b247cb1e",
   "metadata": {},
   "outputs": [],
   "source": [
    "# add ego-vehicle right after the drone\n",
    "vehicle_bp = bp_lib.find('vehicle.mercedes-benz.coupe') \n",
    "vehicle_init_trans = carla.Transform(carla.Location(z=2, x=x, y=0.5), carla.Rotation(pitch=0, yaw=0, roll=0))\n",
    "vehicle = world.spawn_actor(vehicle_bp, vehicle_init_trans)"
   ]
  },
  {
   "cell_type": "code",
   "execution_count": 56,
   "id": "c24a7bb0",
   "metadata": {},
   "outputs": [
    {
     "data": {
      "text/plain": [
       "False"
      ]
     },
     "execution_count": 56,
     "metadata": {},
     "output_type": "execute_result"
    }
   ],
   "source": [
    "vehicle.destroy()"
   ]
  },
  {
   "cell_type": "code",
   "execution_count": 108,
   "id": "e100ab76",
   "metadata": {},
   "outputs": [],
   "source": [
    "# Set up drone sensors\n",
    "drone_init_trans = carla.Transform(carla.Location(z=z, x=x, y=0), carla.Rotation(pitch=pitch, yaw=0, roll=roll))\n",
    "camera_drone = world.spawn_actor(camera_bp, drone_init_trans)\n",
    "lidar_drone = world.spawn_actor(lidar_bp, drone_init_trans)\n",
    "point_list_drone = o3d.geometry.PointCloud()\n",
    "image_w = camera_bp.get_attribute(\"image_size_x\").as_int()\n",
    "image_h = camera_bp.get_attribute(\"image_size_y\").as_int()\n",
    "camera_data_drone = {'image': np.zeros((image_h, image_w, 4))} \n"
   ]
  },
  {
   "cell_type": "code",
   "execution_count": 109,
   "id": "6187cabe",
   "metadata": {},
   "outputs": [],
   "source": [
    "spectator.set_transform(drone_init_trans)"
   ]
  },
  {
   "cell_type": "code",
   "execution_count": 61,
   "id": "5bcf90f8",
   "metadata": {},
   "outputs": [],
   "source": [
    "# Set up vehicle sensors\n",
    "vehicle_init_trans = carla.Transform(carla.Location(0, 0, 2), carla.Rotation(0, 0, 0))\n",
    "lidar_vehicle = world.spawn_actor(lidar_bp, vehicle_init_trans, attach_to=vehicle)\n",
    "camera_vehicle = world.spawn_actor(camera_bp, vehicle_init_trans, attach_to=vehicle)\n",
    "point_list_vehicle = o3d.geometry.PointCloud()\n",
    "image_w = camera_bp.get_attribute(\"image_size_x\").as_int()\n",
    "image_h = camera_bp.get_attribute(\"image_size_y\").as_int()\n",
    "camera_data_vehicle = {'image': np.zeros((image_h, image_w, 4))} \n"
   ]
  },
  {
   "cell_type": "code",
   "execution_count": 110,
   "id": "3c6a65fd",
   "metadata": {},
   "outputs": [],
   "source": [
    "# Start drone sensors\n",
    "lidar_drone.listen(lambda data: lidar_callback(data, point_list_drone, f'output/drone/lidar/z={z}_x={x}_pitch={pitch}_roll={roll}'))\n",
    "camera_drone.listen(lambda image: camera_callback(image, camera_data_drone, f'output/drone/camera/z={z}_x={x}_pitch={pitch}_roll={roll}'))"
   ]
  },
  {
   "cell_type": "code",
   "execution_count": 63,
   "id": "43fc9d1c",
   "metadata": {},
   "outputs": [],
   "source": [
    "# Start vehicle sensors\n",
    "lidar_vehicle.listen(lambda data: lidar_callback(data, point_list_vehicle, f'output/vehicle/lidar/x={x}'))\n",
    "camera_vehicle.listen(lambda image: camera_callback(image, camera_data_vehicle, f'output/vehicle/camera/x={x}'))\n"
   ]
  },
  {
   "cell_type": "code",
   "execution_count": 111,
   "id": "046f8264",
   "metadata": {},
   "outputs": [],
   "source": [
    "lidar_drone.stop()\n",
    "camera_drone.stop()\n"
   ]
  },
  {
   "cell_type": "code",
   "execution_count": 65,
   "id": "83c48865",
   "metadata": {},
   "outputs": [],
   "source": [
    "lidar_vehicle.stop()\n",
    "camera_vehicle.stop()"
   ]
  },
  {
   "cell_type": "code",
   "execution_count": null,
   "id": "0e3e1f3b-dee6-4c20-83c2-20584766d1e8",
   "metadata": {},
   "outputs": [],
   "source": [
    "# OpenCV window for camera\n",
    "cv2.namedWindow(f'RGB Camera (z={z}, x={x}, pitch={pitch}, roll={roll})', cv2.WINDOW_AUTOSIZE)\n",
    "cv2.imshow(f'RGB Camera (z={z}, x={x}, pitch={pitch}, roll={roll})', camera_data['image'])\n",
    "cv2.waitKey(1)\n",
    "\n",
    "# Open3D visualiser for LIDAR and RADAR\n",
    "vis = o3d.visualization.Visualizer()\n",
    "vis.create_window(\n",
    "    window_name=f'Lidar (z={z}, x={x}, pitch={pitch}, roll={roll})',\n",
    "    width=960,\n",
    "    height=540,\n",
    "    left=480,\n",
    "    top=270)\n",
    "vis.get_render_option().background_color = [0.05, 0.05, 0.05]\n",
    "vis.get_render_option().point_size = 1\n",
    "vis.get_render_option().show_coordinate_frame = True\n",
    "add_open3d_axis(vis)\n",
    "\n",
    "# Update geometry and camera in game loop\n",
    "frame = 0\n",
    "while True:\n",
    "    if frame == 2:\n",
    "        vis.add_geometry(point_list)\n",
    "        vis.add_geometry(radar_list)\n",
    "    vis.update_geometry(point_list)\n",
    "    vis.update_geometry(radar_list)\n",
    "    \n",
    "    vis.poll_events()\n",
    "    vis.update_renderer()\n",
    "    # # This can fix Open3D jittering issues:\n",
    "    time.sleep(0.005)\n",
    "    frame += 1\n",
    "\n",
    "    cv2.imshow(f'RGB Camera (z={z}, x={x}, pitch={pitch}, roll={roll})', camera_data['image'])\n",
    "    \n",
    "    # Break if user presses 'q'\n",
    "    if cv2.waitKey(1) == ord('q'):\n",
    "        break\n",
    "\n",
    "# Close displayws and stop sensors\n",
    "cv2.destroyAllWindows()\n",
    "radar.stop()\n",
    "radar.destroy()\n",
    "lidar.stop()\n",
    "lidar.destroy()\n",
    "camera.stop()\n",
    "camera.destroy()\n",
    "vis.destroy_window()\n",
    "\n",
    "# for actor in world.get_actors().filter('*vehicle*'):\n",
    "#     actor.destroy()\n",
    "# for actor in world.get_actors().filter('*sensor*'):\n",
    "#     actor.destroy()"
   ]
  },
  {
   "cell_type": "code",
   "execution_count": 112,
   "id": "8dd90eae",
   "metadata": {},
   "outputs": [],
   "source": [
    "# for actor in world.get_actors().filter('*vehicle*'):\n",
    "#     actor.destroy()\n",
    "for actor in world.get_actors().filter('*sensor*'):\n",
    "    actor.destroy()"
   ]
  },
  {
   "cell_type": "code",
   "execution_count": null,
   "id": "b8dafb02",
   "metadata": {},
   "outputs": [],
   "source": []
  }
 ],
 "metadata": {
  "kernelspec": {
   "display_name": "Python 3.9.12 ('base')",
   "language": "python",
   "name": "python3"
  },
  "language_info": {
   "codemirror_mode": {
    "name": "ipython",
    "version": 3
   },
   "file_extension": ".py",
   "mimetype": "text/x-python",
   "name": "python",
   "nbconvert_exporter": "python",
   "pygments_lexer": "ipython3",
   "version": "3.9.12"
  },
  "vscode": {
   "interpreter": {
    "hash": "d0f5dcaff160d9f79e74ff4dfa711647af4b3d56ea15a3d2814ac7df503eeb18"
   }
  }
 },
 "nbformat": 4,
 "nbformat_minor": 5
}
